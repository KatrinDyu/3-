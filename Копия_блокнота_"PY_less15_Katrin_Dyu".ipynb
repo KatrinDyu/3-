{
  "nbformat": 4,
  "nbformat_minor": 0,
  "metadata": {
    "colab": {
      "provenance": [],
      "authorship_tag": "ABX9TyPyXF3wDwMP2vSz267Jkpyj",
      "include_colab_link": true
    },
    "kernelspec": {
      "name": "python3",
      "display_name": "Python 3"
    },
    "language_info": {
      "name": "python"
    }
  },
  "cells": [
    {
      "cell_type": "markdown",
      "metadata": {
        "id": "view-in-github",
        "colab_type": "text"
      },
      "source": [
        "<a href=\"https://colab.research.google.com/github/KatrinDyu/3-/blob/main/%D0%9A%D0%BE%D0%BF%D0%B8%D1%8F_%D0%B1%D0%BB%D0%BE%D0%BA%D0%BD%D0%BE%D1%82%D0%B0_%22PY_less15_Katrin_Dyu%22.ipynb\" target=\"_parent\"><img src=\"https://colab.research.google.com/assets/colab-badge.svg\" alt=\"Open In Colab\"/></a>"
      ]
    },
    {
      "cell_type": "code",
      "execution_count": null,
      "metadata": {
        "colab": {
          "base_uri": "https://localhost:8080/"
        },
        "id": "w1jMHzYK2mmP",
        "outputId": "7e92da2e-4c91-4dc7-e205-6dab513ea89a"
      },
      "outputs": [
        {
          "output_type": "stream",
          "name": "stdout",
          "text": [
            "  whoAmI  human  robot\n",
            "0  human      1      0\n",
            "1  robot      0      1\n",
            "2  human      1      0\n",
            "3  robot      0      1\n",
            "4  robot      0      1\n"
          ]
        }
      ],
      "source": [
        "import pandas as pd\n",
        "import random\n",
        "lst = ['robot'] * 10\n",
        "lst += ['human'] * 10\n",
        "random.shuffle(lst)\n",
        "data = pd.DataFrame({'whoAmI':lst})\n",
        "data.head()\n",
        "unique_values=data['whoAmI'].unique()\n",
        "one_hot=pd.DataFrame()\n",
        "for value in unique_values: one_hot[value]=(data['whoAmI']==value).astype(int)\n",
        "data=pd.concat([data,one_hot],axis=1)\n",
        "print(data.head())"
      ]
    }
  ]
}